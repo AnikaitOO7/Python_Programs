{
  "nbformat": 4,
  "nbformat_minor": 0,
  "metadata": {
    "colab": {
      "provenance": []
    },
    "kernelspec": {
      "name": "python3",
      "display_name": "Python 3"
    },
    "language_info": {
      "name": "python"
    }
  },
  "cells": [
    {
      "cell_type": "markdown",
      "source": [
        "**Write a python program to convert temperature to\n",
        "and from Celsius to Fahrenheit.**"
      ],
      "metadata": {
        "id": "g1D9CB1KWGSh"
      }
    },
    {
      "cell_type": "code",
      "source": [
        "# Temperature in celsius degree\n",
        "celsius = float(input('Enter the temperature = '))\n",
        "\n",
        "\n",
        "# Converting the temperature to\n",
        "# fehrenheit using the above\n",
        "# mentioned formula\n",
        "fahrenheit = (celsius * 1.8) + 32\n",
        "\n",
        "# printing the result\n",
        "print('%.2f Celsius is equivalent to: %.2f Fahrenheit'\n",
        "\t%(celsius, fahrenheit))\n"
      ],
      "metadata": {
        "colab": {
          "base_uri": "https://localhost:8080/"
        },
        "id": "HbDeryDIWJ8n",
        "outputId": "831a88e2-5811-4acf-a60f-feb80da35f20"
      },
      "execution_count": null,
      "outputs": [
        {
          "output_type": "stream",
          "name": "stdout",
          "text": [
            "Enter the temperature = 40\n",
            "40.0\n",
            "40.00 Celsius is equivalent to: 104.00 Fahrenheit\n"
          ]
        }
      ]
    }
  ]
}
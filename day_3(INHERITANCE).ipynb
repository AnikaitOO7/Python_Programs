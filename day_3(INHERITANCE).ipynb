{
 "cells": [
  {
   "cell_type": "markdown",
   "id": "69069eff",
   "metadata": {},
   "source": [
    "# Date: 13-07-2022\n",
    "\n",
    "# Words of the day;\n",
    "\n",
    "\"\"\"\n",
    "\n",
    "1. Afford: to be able to buy.\n",
    "\n",
    "2. Allow to permit or consent to.\n",
    "\n",
    "3. Ambitious: having a powerful desire for success or achievement 4 Anomaly: something different from the norm.\n",
    "\n",
    "5. Artificial something made; not occurring naturally.\n",
    "\n",
    "\"\"\""
   ]
  },
  {
   "cell_type": "markdown",
   "id": "6aacc1a4",
   "metadata": {},
   "source": [
    "# INHERITANCE:\n",
    "\n",
    "THE PROCESS OF INHERITING THE PROPERTIES OF THE PARENT CLASS INTO A CHILD CLASS IS CALLED INHERITANCE\n",
    "\n",
    "# TYPES OF INHERITANCE::\n",
    "\n",
    "\"\"\"\n",
    "\n",
    "1.SINGLE INHERITANCE \n",
    "\n",
    "2.MULTIPLE INHERITANCE\n",
    "\n",
    "3.MILTILEVEL INHERITANCE\n",
    "\n",
    "4.HERARCHICAL WHERITANCE\n",
    "\n",
    "\"\"\""
   ]
  },
  {
   "cell_type": "markdown",
   "id": "76fe03ac",
   "metadata": {},
   "source": [
    "# 1.SINGLE INHERITANCE"
   ]
  },
  {
   "cell_type": "code",
   "execution_count": 2,
   "id": "d85b93cf",
   "metadata": {},
   "outputs": [
    {
     "name": "stdout",
     "output_type": "stream",
     "text": [
      "Parrot \n",
      "Is a bird \n"
     ]
    }
   ],
   "source": [
    "class bird:\n",
    "    def about(self):\n",
    "        print('Is a bird ')\n",
    "\n",
    "        \n",
    "class bird_1(bird):\n",
    "    def about_1(self):\n",
    "        print('Parrot ')\n",
    "        \n",
    "about_bird = bird_1()\n",
    "about_bird.about_1()\n",
    "about_bird.about()\n"
   ]
  },
  {
   "cell_type": "markdown",
   "id": "25592f5d",
   "metadata": {},
   "source": [
    "# 2.MULTIPLE INHERITANCE"
   ]
  },
  {
   "cell_type": "code",
   "execution_count": 4,
   "id": "22d1fc33",
   "metadata": {},
   "outputs": [
    {
     "name": "stdout",
     "output_type": "stream",
     "text": [
      "kite \n",
      "Parrot \n",
      "are birds \n"
     ]
    }
   ],
   "source": [
    "class bird:\n",
    "    def about(self):\n",
    "        print('are birds ')\n",
    "\n",
    "        \n",
    "class bird_1:\n",
    "    def about_1(self):\n",
    "        print('Parrot ')\n",
    "        \n",
    "class bird_2(bird, bird_1):\n",
    "    def about_2(self):\n",
    "        print('kite ')\n",
    "        \n",
    "about_bird = bird_2()\n",
    "\n",
    "about_bird.about_2()\n",
    "about_bird.about_1()\n",
    "about_bird.about()"
   ]
  },
  {
   "cell_type": "markdown",
   "id": "db498a40",
   "metadata": {},
   "source": [
    "# 3.MILTILEVEL INHERITANCE"
   ]
  },
  {
   "cell_type": "code",
   "execution_count": 5,
   "id": "e7471d9b",
   "metadata": {},
   "outputs": [
    {
     "name": "stdout",
     "output_type": "stream",
     "text": [
      "kite \n",
      "Parrot \n",
      "Is a bird \n"
     ]
    }
   ],
   "source": [
    "class bird:\n",
    "    def about(self):\n",
    "        print('Is a bird ')\n",
    "\n",
    "        \n",
    "class bird_1(bird):\n",
    "    def about_1(self):\n",
    "        print('Parrot ')\n",
    "        \n",
    "class bird_2(bird_1):\n",
    "    def about_2(self):\n",
    "        print('kite ')\n",
    "        \n",
    "about_bird = bird_2()\n",
    "about_bird.about_2()\n",
    "about_bird.about_1()\n",
    "about_bird.about()"
   ]
  },
  {
   "cell_type": "markdown",
   "id": "e47fb2ca",
   "metadata": {},
   "source": [
    "# 4.HERARCHICAL INHERITANCE"
   ]
  },
  {
   "cell_type": "code",
   "execution_count": 14,
   "id": "51f27fee",
   "metadata": {},
   "outputs": [
    {
     "name": "stdout",
     "output_type": "stream",
     "text": [
      "ANIKAIT\n",
      "Successfully qualified from institute\n",
      "Astro\n",
      "Successfully qualified from institute\n",
      "Sonic\n",
      "Successfully qualified from institute\n"
     ]
    }
   ],
   "source": [
    "class Institute:\n",
    "    def qualify(self):\n",
    "        print(\"Successfully qualified from institute\")\n",
    "\n",
    "class Student_1(Institute):\n",
    "    def qualifies(self):\n",
    "         print(\"ANIKAIT\")\n",
    "\n",
    "class Student_2(Institute):\n",
    "    def qualifies_1(self):\n",
    "         print(\"Astro\")\n",
    "            \n",
    "class Student_3(Institute):\n",
    "    def qualifies_2(self):\n",
    "         print(\"Sonic\")\n",
    "            \n",
    "qual = Student_1()\n",
    "qual.qualifies()\n",
    "qual.qualify()\n",
    "\n",
    "qual_1 = Student_2()\n",
    "qual_1.qualifies_1()\n",
    "qual_1.qualify()\n",
    "\n",
    "qual_2 = Student_3()\n",
    "qual_2.qualifies_2()\n",
    "qual_2.qualify()"
   ]
  }
 ],
 "metadata": {
  "kernelspec": {
   "display_name": "Python 3 (ipykernel)",
   "language": "python",
   "name": "python3"
  },
  "language_info": {
   "codemirror_mode": {
    "name": "ipython",
    "version": 3
   },
   "file_extension": ".py",
   "mimetype": "text/x-python",
   "name": "python",
   "nbconvert_exporter": "python",
   "pygments_lexer": "ipython3",
   "version": "3.10.0"
  }
 },
 "nbformat": 4,
 "nbformat_minor": 5
}

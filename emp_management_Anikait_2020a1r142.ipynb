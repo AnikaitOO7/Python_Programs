{
 "cells": [
  {
   "cell_type": "markdown",
   "id": "7f85bfc6",
   "metadata": {},
   "source": [
    "# Employee Managment System"
   ]
  },
  {
   "cell_type": "code",
   "execution_count": null,
   "id": "be82be7a",
   "metadata": {},
   "outputs": [
    {
     "name": "stdout",
     "output_type": "stream",
     "text": [
      "\n",
      "a. Add a new employee\n",
      "b. Display all employees\n",
      "Choose an optiona\n",
      "Enter Employee name: Anikait\n",
      "['Anikait']\n",
      "Enter Employee job title: hr\n",
      "['Anikait', 'Hr']\n",
      "\n",
      "a. Add a new employee\n",
      "b. Display all employees\n",
      "Choose an optionb\n",
      "Employee Name:\n",
      "('Anikait', 'Hr')\n",
      "('Anikait', 'Hr')\n",
      "\n",
      "a. Add a new employee\n",
      "b. Display all employees\n"
     ]
    }
   ],
   "source": [
    "record=[]\n",
    "mytuple=()\n",
    "\n",
    "choice = \"\"\n",
    "while (choice != \"c\"):\n",
    "    print()\n",
    "    print(\"a. Add a new employee\")\n",
    "    print(\"b. Display all employees\")\n",
    "\n",
    "    choice = input(\"Choose an option\")\n",
    "    if choice == \"a\":\n",
    "        full_name = str(input(\"Enter Employee name: \")).title()\n",
    "        record.append(full_name)\n",
    "        print(record)\n",
    "\n",
    "        job_title = str(input(\"Enter Employee job title: \")).title()\n",
    "        record.append(job_title)\n",
    "        print(record)\n",
    "\n",
    "\n",
    "    elif choice == \"b\":\n",
    "        print(\"Employee Name:\")\n",
    "        for n in record:\n",
    "            mytuple=tuple(record)\n",
    "            print(mytuple)"
   ]
  }
 ],
 "metadata": {
  "kernelspec": {
   "display_name": "Python 3 (ipykernel)",
   "language": "python",
   "name": "python3"
  },
  "language_info": {
   "codemirror_mode": {
    "name": "ipython",
    "version": 3
   },
   "file_extension": ".py",
   "mimetype": "text/x-python",
   "name": "python",
   "nbconvert_exporter": "python",
   "pygments_lexer": "ipython3",
   "version": "3.10.7"
  }
 },
 "nbformat": 4,
 "nbformat_minor": 5
}

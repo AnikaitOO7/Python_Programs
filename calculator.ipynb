{
 "cells": [
  {
   "cell_type": "markdown",
   "id": "538d9076",
   "metadata": {},
   "source": [
    "Calculator"
   ]
  },
  {
   "cell_type": "code",
   "execution_count": 2,
   "id": "97070e3f",
   "metadata": {},
   "outputs": [
    {
     "name": "stdout",
     "output_type": "stream",
     "text": [
      "Enter first number = 5\n",
      "Enter second number = 8\n",
      "Enter + for addition\n",
      "Enter - for subtraction\n",
      "Enter * for multplication\n",
      "Enter / for division\n",
      "Enter our operator = *\n",
      "Result =  40\n"
     ]
    }
   ],
   "source": [
    "def calcu():\n",
    "    num1=int(input(\"Enter first number = \"))\n",
    "    num2=int(input(\"Enter second number = \"))\n",
    "    print(\"Enter + for addition\")\n",
    "    print(\"Enter - for subtraction\")\n",
    "    print(\"Enter * for multplication\")\n",
    "    print(\"Enter / for division\")\n",
    "    operator = input(\"Enter our operator = \")\n",
    "\n",
    "    if operator=='+':\n",
    "        return(num1+num2)\n",
    "    elif operator=='-':\n",
    "        return(num1-num2)\n",
    "    elif operator=='*':\n",
    "        return(num1*num2)\n",
    "    elif operator=='/':\n",
    "        return(num1/num2)\n",
    "\n",
    "a = calcu()\n",
    "print(\"Result = \",a)"
   ]
  },
  {
   "cell_type": "code",
   "execution_count": null,
   "id": "c40832f6",
   "metadata": {},
   "outputs": [],
   "source": []
  }
 ],
 "metadata": {
  "kernelspec": {
   "display_name": "Python 3 (ipykernel)",
   "language": "python",
   "name": "python3"
  },
  "language_info": {
   "codemirror_mode": {
    "name": "ipython",
    "version": 3
   },
   "file_extension": ".py",
   "mimetype": "text/x-python",
   "name": "python",
   "nbconvert_exporter": "python",
   "pygments_lexer": "ipython3",
   "version": "3.10.0"
  }
 },
 "nbformat": 4,
 "nbformat_minor": 5
}

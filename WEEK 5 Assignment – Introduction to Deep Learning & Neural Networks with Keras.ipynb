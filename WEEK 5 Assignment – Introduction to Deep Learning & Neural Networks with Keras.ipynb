{
 "cells": [
  {
   "cell_type": "markdown",
   "id": "bd5342c8",
   "metadata": {},
   "source": [
    "# WEEK 5 Assignment - Introduction to Deep Learning & Neural Networks with Keras\n",
    "# #Importing Required Packages"
   ]
  },
  {
   "cell_type": "code",
   "execution_count": 1,
   "id": "0c952594",
   "metadata": {},
   "outputs": [],
   "source": [
    "import pandas as pd\n",
    "import numpy as np"
   ]
  },
  {
   "cell_type": "markdown",
   "id": "e031cafd",
   "metadata": {},
   "source": [
    "## Importing Convulation"
   ]
  },
  {
   "cell_type": "code",
   "execution_count": 3,
   "id": "43ea5476",
   "metadata": {},
   "outputs": [
    {
     "data": {
      "text/html": [
       "<div>\n",
       "<style scoped>\n",
       "    .dataframe tbody tr th:only-of-type {\n",
       "        vertical-align: middle;\n",
       "    }\n",
       "\n",
       "    .dataframe tbody tr th {\n",
       "        vertical-align: top;\n",
       "    }\n",
       "\n",
       "    .dataframe thead th {\n",
       "        text-align: right;\n",
       "    }\n",
       "</style>\n",
       "<table border=\"1\" class=\"dataframe\">\n",
       "  <thead>\n",
       "    <tr style=\"text-align: right;\">\n",
       "      <th></th>\n",
       "      <th>Cement</th>\n",
       "      <th>Blast Furnace Slag</th>\n",
       "      <th>Fly Ash</th>\n",
       "      <th>Water</th>\n",
       "      <th>Superplasticizer</th>\n",
       "      <th>Coarse Aggregate</th>\n",
       "      <th>Fine Aggregate</th>\n",
       "      <th>Age</th>\n",
       "      <th>Strength</th>\n",
       "    </tr>\n",
       "  </thead>\n",
       "  <tbody>\n",
       "    <tr>\n",
       "      <th>0</th>\n",
       "      <td>540.0</td>\n",
       "      <td>0.0</td>\n",
       "      <td>0.0</td>\n",
       "      <td>162.0</td>\n",
       "      <td>2.5</td>\n",
       "      <td>1040.0</td>\n",
       "      <td>676.0</td>\n",
       "      <td>28</td>\n",
       "      <td>79.99</td>\n",
       "    </tr>\n",
       "    <tr>\n",
       "      <th>1</th>\n",
       "      <td>540.0</td>\n",
       "      <td>0.0</td>\n",
       "      <td>0.0</td>\n",
       "      <td>162.0</td>\n",
       "      <td>2.5</td>\n",
       "      <td>1055.0</td>\n",
       "      <td>676.0</td>\n",
       "      <td>28</td>\n",
       "      <td>61.89</td>\n",
       "    </tr>\n",
       "    <tr>\n",
       "      <th>2</th>\n",
       "      <td>332.5</td>\n",
       "      <td>142.5</td>\n",
       "      <td>0.0</td>\n",
       "      <td>228.0</td>\n",
       "      <td>0.0</td>\n",
       "      <td>932.0</td>\n",
       "      <td>594.0</td>\n",
       "      <td>270</td>\n",
       "      <td>40.27</td>\n",
       "    </tr>\n",
       "    <tr>\n",
       "      <th>3</th>\n",
       "      <td>332.5</td>\n",
       "      <td>142.5</td>\n",
       "      <td>0.0</td>\n",
       "      <td>228.0</td>\n",
       "      <td>0.0</td>\n",
       "      <td>932.0</td>\n",
       "      <td>594.0</td>\n",
       "      <td>365</td>\n",
       "      <td>41.05</td>\n",
       "    </tr>\n",
       "    <tr>\n",
       "      <th>4</th>\n",
       "      <td>198.6</td>\n",
       "      <td>132.4</td>\n",
       "      <td>0.0</td>\n",
       "      <td>192.0</td>\n",
       "      <td>0.0</td>\n",
       "      <td>978.4</td>\n",
       "      <td>825.5</td>\n",
       "      <td>360</td>\n",
       "      <td>44.30</td>\n",
       "    </tr>\n",
       "  </tbody>\n",
       "</table>\n",
       "</div>"
      ],
      "text/plain": [
       "   Cement  Blast Furnace Slag  Fly Ash  Water  Superplasticizer  \\\n",
       "0   540.0                 0.0      0.0  162.0               2.5   \n",
       "1   540.0                 0.0      0.0  162.0               2.5   \n",
       "2   332.5               142.5      0.0  228.0               0.0   \n",
       "3   332.5               142.5      0.0  228.0               0.0   \n",
       "4   198.6               132.4      0.0  192.0               0.0   \n",
       "\n",
       "   Coarse Aggregate  Fine Aggregate  Age  Strength  \n",
       "0            1040.0           676.0   28     79.99  \n",
       "1            1055.0           676.0   28     61.89  \n",
       "2             932.0           594.0  270     40.27  \n",
       "3             932.0           594.0  365     41.05  \n",
       "4             978.4           825.5  360     44.30  "
      ]
     },
     "execution_count": 3,
     "metadata": {},
     "output_type": "execute_result"
    }
   ],
   "source": [
    "concrete_data = pd.read_csv('https://cocl.us/concrete_data')\n",
    "concrete_data.head()"
   ]
  },
  {
   "cell_type": "code",
   "execution_count": 4,
   "id": "48c62e62",
   "metadata": {},
   "outputs": [
    {
     "data": {
      "text/plain": [
       "(1030, 9)"
      ]
     },
     "execution_count": 4,
     "metadata": {},
     "output_type": "execute_result"
    }
   ],
   "source": [
    "concrete_data.shape"
   ]
  },
  {
   "cell_type": "code",
   "execution_count": 5,
   "id": "591ed3f5",
   "metadata": {},
   "outputs": [
    {
     "data": {
      "text/html": [
       "<div>\n",
       "<style scoped>\n",
       "    .dataframe tbody tr th:only-of-type {\n",
       "        vertical-align: middle;\n",
       "    }\n",
       "\n",
       "    .dataframe tbody tr th {\n",
       "        vertical-align: top;\n",
       "    }\n",
       "\n",
       "    .dataframe thead th {\n",
       "        text-align: right;\n",
       "    }\n",
       "</style>\n",
       "<table border=\"1\" class=\"dataframe\">\n",
       "  <thead>\n",
       "    <tr style=\"text-align: right;\">\n",
       "      <th></th>\n",
       "      <th>Cement</th>\n",
       "      <th>Blast Furnace Slag</th>\n",
       "      <th>Fly Ash</th>\n",
       "      <th>Water</th>\n",
       "      <th>Superplasticizer</th>\n",
       "      <th>Coarse Aggregate</th>\n",
       "      <th>Fine Aggregate</th>\n",
       "      <th>Age</th>\n",
       "      <th>Strength</th>\n",
       "    </tr>\n",
       "  </thead>\n",
       "  <tbody>\n",
       "    <tr>\n",
       "      <th>count</th>\n",
       "      <td>1030.000000</td>\n",
       "      <td>1030.000000</td>\n",
       "      <td>1030.000000</td>\n",
       "      <td>1030.000000</td>\n",
       "      <td>1030.000000</td>\n",
       "      <td>1030.000000</td>\n",
       "      <td>1030.000000</td>\n",
       "      <td>1030.000000</td>\n",
       "      <td>1030.000000</td>\n",
       "    </tr>\n",
       "    <tr>\n",
       "      <th>mean</th>\n",
       "      <td>281.167864</td>\n",
       "      <td>73.895825</td>\n",
       "      <td>54.188350</td>\n",
       "      <td>181.567282</td>\n",
       "      <td>6.204660</td>\n",
       "      <td>972.918932</td>\n",
       "      <td>773.580485</td>\n",
       "      <td>45.662136</td>\n",
       "      <td>35.817961</td>\n",
       "    </tr>\n",
       "    <tr>\n",
       "      <th>std</th>\n",
       "      <td>104.506364</td>\n",
       "      <td>86.279342</td>\n",
       "      <td>63.997004</td>\n",
       "      <td>21.354219</td>\n",
       "      <td>5.973841</td>\n",
       "      <td>77.753954</td>\n",
       "      <td>80.175980</td>\n",
       "      <td>63.169912</td>\n",
       "      <td>16.705742</td>\n",
       "    </tr>\n",
       "    <tr>\n",
       "      <th>min</th>\n",
       "      <td>102.000000</td>\n",
       "      <td>0.000000</td>\n",
       "      <td>0.000000</td>\n",
       "      <td>121.800000</td>\n",
       "      <td>0.000000</td>\n",
       "      <td>801.000000</td>\n",
       "      <td>594.000000</td>\n",
       "      <td>1.000000</td>\n",
       "      <td>2.330000</td>\n",
       "    </tr>\n",
       "    <tr>\n",
       "      <th>25%</th>\n",
       "      <td>192.375000</td>\n",
       "      <td>0.000000</td>\n",
       "      <td>0.000000</td>\n",
       "      <td>164.900000</td>\n",
       "      <td>0.000000</td>\n",
       "      <td>932.000000</td>\n",
       "      <td>730.950000</td>\n",
       "      <td>7.000000</td>\n",
       "      <td>23.710000</td>\n",
       "    </tr>\n",
       "    <tr>\n",
       "      <th>50%</th>\n",
       "      <td>272.900000</td>\n",
       "      <td>22.000000</td>\n",
       "      <td>0.000000</td>\n",
       "      <td>185.000000</td>\n",
       "      <td>6.400000</td>\n",
       "      <td>968.000000</td>\n",
       "      <td>779.500000</td>\n",
       "      <td>28.000000</td>\n",
       "      <td>34.445000</td>\n",
       "    </tr>\n",
       "    <tr>\n",
       "      <th>75%</th>\n",
       "      <td>350.000000</td>\n",
       "      <td>142.950000</td>\n",
       "      <td>118.300000</td>\n",
       "      <td>192.000000</td>\n",
       "      <td>10.200000</td>\n",
       "      <td>1029.400000</td>\n",
       "      <td>824.000000</td>\n",
       "      <td>56.000000</td>\n",
       "      <td>46.135000</td>\n",
       "    </tr>\n",
       "    <tr>\n",
       "      <th>max</th>\n",
       "      <td>540.000000</td>\n",
       "      <td>359.400000</td>\n",
       "      <td>200.100000</td>\n",
       "      <td>247.000000</td>\n",
       "      <td>32.200000</td>\n",
       "      <td>1145.000000</td>\n",
       "      <td>992.600000</td>\n",
       "      <td>365.000000</td>\n",
       "      <td>82.600000</td>\n",
       "    </tr>\n",
       "  </tbody>\n",
       "</table>\n",
       "</div>"
      ],
      "text/plain": [
       "            Cement  Blast Furnace Slag      Fly Ash        Water  \\\n",
       "count  1030.000000         1030.000000  1030.000000  1030.000000   \n",
       "mean    281.167864           73.895825    54.188350   181.567282   \n",
       "std     104.506364           86.279342    63.997004    21.354219   \n",
       "min     102.000000            0.000000     0.000000   121.800000   \n",
       "25%     192.375000            0.000000     0.000000   164.900000   \n",
       "50%     272.900000           22.000000     0.000000   185.000000   \n",
       "75%     350.000000          142.950000   118.300000   192.000000   \n",
       "max     540.000000          359.400000   200.100000   247.000000   \n",
       "\n",
       "       Superplasticizer  Coarse Aggregate  Fine Aggregate          Age  \\\n",
       "count       1030.000000       1030.000000     1030.000000  1030.000000   \n",
       "mean           6.204660        972.918932      773.580485    45.662136   \n",
       "std            5.973841         77.753954       80.175980    63.169912   \n",
       "min            0.000000        801.000000      594.000000     1.000000   \n",
       "25%            0.000000        932.000000      730.950000     7.000000   \n",
       "50%            6.400000        968.000000      779.500000    28.000000   \n",
       "75%           10.200000       1029.400000      824.000000    56.000000   \n",
       "max           32.200000       1145.000000      992.600000   365.000000   \n",
       "\n",
       "          Strength  \n",
       "count  1030.000000  \n",
       "mean     35.817961  \n",
       "std      16.705742  \n",
       "min       2.330000  \n",
       "25%      23.710000  \n",
       "50%      34.445000  \n",
       "75%      46.135000  \n",
       "max      82.600000  "
      ]
     },
     "execution_count": 5,
     "metadata": {},
     "output_type": "execute_result"
    }
   ],
   "source": [
    "concrete_data.describe()"
   ]
  },
  {
   "cell_type": "code",
   "execution_count": 6,
   "id": "31e22128",
   "metadata": {},
   "outputs": [
    {
     "data": {
      "text/plain": [
       "Cement                0\n",
       "Blast Furnace Slag    0\n",
       "Fly Ash               0\n",
       "Water                 0\n",
       "Superplasticizer      0\n",
       "Coarse Aggregate      0\n",
       "Fine Aggregate        0\n",
       "Age                   0\n",
       "Strength              0\n",
       "dtype: int64"
      ]
     },
     "execution_count": 6,
     "metadata": {},
     "output_type": "execute_result"
    }
   ],
   "source": [
    "concrete_data.isnull().sum()"
   ]
  },
  {
   "cell_type": "markdown",
   "id": "834abd91",
   "metadata": {},
   "source": [
    "## Cleaning and Normalizing Data "
   ]
  },
  {
   "cell_type": "code",
   "execution_count": 7,
   "id": "22377796",
   "metadata": {},
   "outputs": [],
   "source": [
    "concrete_data_columns = concrete_data.columns\n",
    "predictors = concrete_data[concrete_data_columns[concrete_data_columns != 'Strength']] # all columns except Strength\n",
    "target = concrete_data['Strength'] # Strength column"
   ]
  },
  {
   "cell_type": "code",
   "execution_count": 8,
   "id": "eef8b80e",
   "metadata": {},
   "outputs": [
    {
     "data": {
      "text/html": [
       "<div>\n",
       "<style scoped>\n",
       "    .dataframe tbody tr th:only-of-type {\n",
       "        vertical-align: middle;\n",
       "    }\n",
       "\n",
       "    .dataframe tbody tr th {\n",
       "        vertical-align: top;\n",
       "    }\n",
       "\n",
       "    .dataframe thead th {\n",
       "        text-align: right;\n",
       "    }\n",
       "</style>\n",
       "<table border=\"1\" class=\"dataframe\">\n",
       "  <thead>\n",
       "    <tr style=\"text-align: right;\">\n",
       "      <th></th>\n",
       "      <th>Cement</th>\n",
       "      <th>Blast Furnace Slag</th>\n",
       "      <th>Fly Ash</th>\n",
       "      <th>Water</th>\n",
       "      <th>Superplasticizer</th>\n",
       "      <th>Coarse Aggregate</th>\n",
       "      <th>Fine Aggregate</th>\n",
       "      <th>Age</th>\n",
       "    </tr>\n",
       "  </thead>\n",
       "  <tbody>\n",
       "    <tr>\n",
       "      <th>0</th>\n",
       "      <td>540.0</td>\n",
       "      <td>0.0</td>\n",
       "      <td>0.0</td>\n",
       "      <td>162.0</td>\n",
       "      <td>2.5</td>\n",
       "      <td>1040.0</td>\n",
       "      <td>676.0</td>\n",
       "      <td>28</td>\n",
       "    </tr>\n",
       "    <tr>\n",
       "      <th>1</th>\n",
       "      <td>540.0</td>\n",
       "      <td>0.0</td>\n",
       "      <td>0.0</td>\n",
       "      <td>162.0</td>\n",
       "      <td>2.5</td>\n",
       "      <td>1055.0</td>\n",
       "      <td>676.0</td>\n",
       "      <td>28</td>\n",
       "    </tr>\n",
       "    <tr>\n",
       "      <th>2</th>\n",
       "      <td>332.5</td>\n",
       "      <td>142.5</td>\n",
       "      <td>0.0</td>\n",
       "      <td>228.0</td>\n",
       "      <td>0.0</td>\n",
       "      <td>932.0</td>\n",
       "      <td>594.0</td>\n",
       "      <td>270</td>\n",
       "    </tr>\n",
       "    <tr>\n",
       "      <th>3</th>\n",
       "      <td>332.5</td>\n",
       "      <td>142.5</td>\n",
       "      <td>0.0</td>\n",
       "      <td>228.0</td>\n",
       "      <td>0.0</td>\n",
       "      <td>932.0</td>\n",
       "      <td>594.0</td>\n",
       "      <td>365</td>\n",
       "    </tr>\n",
       "    <tr>\n",
       "      <th>4</th>\n",
       "      <td>198.6</td>\n",
       "      <td>132.4</td>\n",
       "      <td>0.0</td>\n",
       "      <td>192.0</td>\n",
       "      <td>0.0</td>\n",
       "      <td>978.4</td>\n",
       "      <td>825.5</td>\n",
       "      <td>360</td>\n",
       "    </tr>\n",
       "  </tbody>\n",
       "</table>\n",
       "</div>"
      ],
      "text/plain": [
       "   Cement  Blast Furnace Slag  Fly Ash  Water  Superplasticizer  \\\n",
       "0   540.0                 0.0      0.0  162.0               2.5   \n",
       "1   540.0                 0.0      0.0  162.0               2.5   \n",
       "2   332.5               142.5      0.0  228.0               0.0   \n",
       "3   332.5               142.5      0.0  228.0               0.0   \n",
       "4   198.6               132.4      0.0  192.0               0.0   \n",
       "\n",
       "   Coarse Aggregate  Fine Aggregate  Age  \n",
       "0            1040.0           676.0   28  \n",
       "1            1055.0           676.0   28  \n",
       "2             932.0           594.0  270  \n",
       "3             932.0           594.0  365  \n",
       "4             978.4           825.5  360  "
      ]
     },
     "execution_count": 8,
     "metadata": {},
     "output_type": "execute_result"
    }
   ],
   "source": [
    "predictors.head()"
   ]
  },
  {
   "cell_type": "code",
   "execution_count": 9,
   "id": "81eb6a31",
   "metadata": {},
   "outputs": [
    {
     "data": {
      "text/plain": [
       "0    79.99\n",
       "1    61.89\n",
       "2    40.27\n",
       "3    41.05\n",
       "4    44.30\n",
       "Name: Strength, dtype: float64"
      ]
     },
     "execution_count": 9,
     "metadata": {},
     "output_type": "execute_result"
    }
   ],
   "source": [
    "target.head()"
   ]
  },
  {
   "cell_type": "code",
   "execution_count": 10,
   "id": "2de2db45",
   "metadata": {},
   "outputs": [
    {
     "data": {
      "text/plain": [
       "8"
      ]
     },
     "execution_count": 10,
     "metadata": {},
     "output_type": "execute_result"
    }
   ],
   "source": [
    "n_cols = predictors.shape[1] # number of predictors\n",
    "n_cols"
   ]
  },
  {
   "cell_type": "markdown",
   "id": "d3643d4a",
   "metadata": {},
   "source": [
    "# Import Keras"
   ]
  },
  {
   "cell_type": "code",
   "execution_count": 11,
   "id": "3c37f9fe",
   "metadata": {},
   "outputs": [],
   "source": [
    "import keras"
   ]
  },
  {
   "cell_type": "markdown",
   "id": "8f48caf5",
   "metadata": {},
   "source": [
    "# Import Useful Packages"
   ]
  },
  {
   "cell_type": "code",
   "execution_count": 12,
   "id": "231cef5c",
   "metadata": {},
   "outputs": [],
   "source": [
    "from keras.models import Sequential\n",
    "from keras.layers import Dense"
   ]
  },
  {
   "cell_type": "code",
   "execution_count": 13,
   "id": "d9f1fbc6",
   "metadata": {},
   "outputs": [],
   "source": [
    "# define regression model\n",
    "def regression_model():\n",
    "    # create model\n",
    "    model = Sequential()\n",
    "    model.add(Dense(10, activation='relu', input_shape=(n_cols,)))\n",
    "    model.add(Dense(1))\n",
    "    \n",
    "    # compile model\n",
    "    model.compile(optimizer='adam', loss='mean_squared_error')\n",
    "    return model"
   ]
  },
  {
   "cell_type": "code",
   "execution_count": 14,
   "id": "6fb22111",
   "metadata": {},
   "outputs": [],
   "source": [
    "from sklearn.model_selection import train_test_split"
   ]
  },
  {
   "cell_type": "code",
   "execution_count": 15,
   "id": "a4b9905d",
   "metadata": {},
   "outputs": [],
   "source": [
    "X_train, X_test, y_train, y_test = train_test_split(predictors, target, test_size=0.3, random_state=42)"
   ]
  },
  {
   "cell_type": "markdown",
   "id": "3e47417e",
   "metadata": {},
   "source": [
    "# Train and Test the Network"
   ]
  },
  {
   "cell_type": "code",
   "execution_count": 16,
   "id": "eae9a293",
   "metadata": {},
   "outputs": [],
   "source": [
    "# build the model\n",
    "model = regression_model()"
   ]
  },
  {
   "cell_type": "code",
   "execution_count": 17,
   "id": "43a44563",
   "metadata": {},
   "outputs": [
    {
     "name": "stdout",
     "output_type": "stream",
     "text": [
      "Epoch 1/50\n",
      "23/23 [==============================] - 1s 1ms/step - loss: 47542.7500\n",
      "Epoch 2/50\n",
      "23/23 [==============================] - 0s 1ms/step - loss: 7011.0342\n",
      "Epoch 3/50\n",
      "23/23 [==============================] - 0s 1ms/step - loss: 2679.6018\n",
      "Epoch 4/50\n",
      "23/23 [==============================] - 0s 2ms/step - loss: 2302.4194\n",
      "Epoch 5/50\n",
      "23/23 [==============================] - 0s 2ms/step - loss: 2010.0076\n",
      "Epoch 6/50\n",
      "23/23 [==============================] - 0s 1ms/step - loss: 1796.0884\n",
      "Epoch 7/50\n",
      "23/23 [==============================] - 0s 2ms/step - loss: 1612.7480\n",
      "Epoch 8/50\n",
      "23/23 [==============================] - 0s 1ms/step - loss: 1463.4254\n",
      "Epoch 9/50\n",
      "23/23 [==============================] - 0s 1ms/step - loss: 1333.0181\n",
      "Epoch 10/50\n",
      "23/23 [==============================] - 0s 1ms/step - loss: 1219.7384\n",
      "Epoch 11/50\n",
      "23/23 [==============================] - 0s 2ms/step - loss: 1126.4689\n",
      "Epoch 12/50\n",
      "23/23 [==============================] - 0s 2ms/step - loss: 1039.9293\n",
      "Epoch 13/50\n",
      "23/23 [==============================] - 0s 2ms/step - loss: 966.8231\n",
      "Epoch 14/50\n",
      "23/23 [==============================] - 0s 1ms/step - loss: 900.8853\n",
      "Epoch 15/50\n",
      "23/23 [==============================] - 0s 1ms/step - loss: 843.5186\n",
      "Epoch 16/50\n",
      "23/23 [==============================] - 0s 1ms/step - loss: 791.9648\n",
      "Epoch 17/50\n",
      "23/23 [==============================] - 0s 1ms/step - loss: 746.3707\n",
      "Epoch 18/50\n",
      "23/23 [==============================] - 0s 1ms/step - loss: 704.7717\n",
      "Epoch 19/50\n",
      "23/23 [==============================] - 0s 1ms/step - loss: 665.2182\n",
      "Epoch 20/50\n",
      "23/23 [==============================] - 0s 1ms/step - loss: 626.8112\n",
      "Epoch 21/50\n",
      "23/23 [==============================] - 0s 1ms/step - loss: 593.1465\n",
      "Epoch 22/50\n",
      "23/23 [==============================] - 0s 1ms/step - loss: 559.6248\n",
      "Epoch 23/50\n",
      "23/23 [==============================] - 0s 1ms/step - loss: 530.7103\n",
      "Epoch 24/50\n",
      "23/23 [==============================] - 0s 1ms/step - loss: 502.3491\n",
      "Epoch 25/50\n",
      "23/23 [==============================] - 0s 1ms/step - loss: 479.0782\n",
      "Epoch 26/50\n",
      "23/23 [==============================] - 0s 1ms/step - loss: 454.2135\n",
      "Epoch 27/50\n",
      "23/23 [==============================] - 0s 2ms/step - loss: 431.9622\n",
      "Epoch 28/50\n",
      "23/23 [==============================] - 0s 1ms/step - loss: 412.8516\n",
      "Epoch 29/50\n",
      "23/23 [==============================] - 0s 2ms/step - loss: 393.0380\n",
      "Epoch 30/50\n",
      "23/23 [==============================] - 0s 1ms/step - loss: 374.4859\n",
      "Epoch 31/50\n",
      "23/23 [==============================] - 0s 1ms/step - loss: 356.6803\n",
      "Epoch 32/50\n",
      "23/23 [==============================] - 0s 2ms/step - loss: 339.5753\n",
      "Epoch 33/50\n",
      "23/23 [==============================] - 0s 1ms/step - loss: 323.9809\n",
      "Epoch 34/50\n",
      "23/23 [==============================] - 0s 1ms/step - loss: 309.4264\n",
      "Epoch 35/50\n",
      "23/23 [==============================] - 0s 1ms/step - loss: 295.2407\n",
      "Epoch 36/50\n",
      "23/23 [==============================] - 0s 1ms/step - loss: 283.3747\n",
      "Epoch 37/50\n",
      "23/23 [==============================] - 0s 1ms/step - loss: 270.4009\n",
      "Epoch 38/50\n",
      "23/23 [==============================] - 0s 1ms/step - loss: 259.5315\n",
      "Epoch 39/50\n",
      "23/23 [==============================] - 0s 1ms/step - loss: 249.6108\n",
      "Epoch 40/50\n",
      "23/23 [==============================] - 0s 1ms/step - loss: 239.3069\n",
      "Epoch 41/50\n",
      "23/23 [==============================] - 0s 1ms/step - loss: 232.0761\n",
      "Epoch 42/50\n",
      "23/23 [==============================] - 0s 1ms/step - loss: 221.5432\n",
      "Epoch 43/50\n",
      "23/23 [==============================] - 0s 1ms/step - loss: 212.6300\n",
      "Epoch 44/50\n",
      "23/23 [==============================] - 0s 2ms/step - loss: 205.6770\n",
      "Epoch 45/50\n",
      "23/23 [==============================] - 0s 2ms/step - loss: 197.6195\n",
      "Epoch 46/50\n",
      "23/23 [==============================] - 0s 2ms/step - loss: 192.0734\n",
      "Epoch 47/50\n",
      "23/23 [==============================] - 0s 1ms/step - loss: 185.0973\n",
      "Epoch 48/50\n",
      "23/23 [==============================] - 0s 2ms/step - loss: 179.9854\n",
      "Epoch 49/50\n",
      "23/23 [==============================] - 0s 1ms/step - loss: 173.3959\n",
      "Epoch 50/50\n",
      "23/23 [==============================] - 0s 1ms/step - loss: 168.9060\n"
     ]
    },
    {
     "data": {
      "text/plain": [
       "<keras.callbacks.History at 0x1186fcc4b50>"
      ]
     },
     "execution_count": 17,
     "metadata": {},
     "output_type": "execute_result"
    }
   ],
   "source": [
    "# fit the model\n",
    "epochs = 50\n",
    "model.fit(X_train, y_train, epochs=epochs, verbose=1)"
   ]
  },
  {
   "cell_type": "code",
   "execution_count": 18,
   "id": "92a17d1c",
   "metadata": {},
   "outputs": [
    {
     "name": "stdout",
     "output_type": "stream",
     "text": [
      "10/10 [==============================] - 0s 2ms/step - loss: 153.6111\n",
      "10/10 [==============================] - 0s 2ms/step\n"
     ]
    },
    {
     "data": {
      "text/plain": [
       "153.61114501953125"
      ]
     },
     "execution_count": 18,
     "metadata": {},
     "output_type": "execute_result"
    }
   ],
   "source": [
    "loss_val = model.evaluate(X_test, y_test)\n",
    "y_pred = model.predict(X_test)\n",
    "loss_val"
   ]
  },
  {
   "cell_type": "code",
   "execution_count": 19,
   "id": "04605089",
   "metadata": {},
   "outputs": [],
   "source": [
    "from sklearn.metrics import mean_squared_error"
   ]
  },
  {
   "cell_type": "code",
   "execution_count": 20,
   "id": "6823309f",
   "metadata": {},
   "outputs": [
    {
     "name": "stdout",
     "output_type": "stream",
     "text": [
      "153.61115465070222 0.0\n"
     ]
    }
   ],
   "source": [
    "mean_square_error = mean_squared_error(y_test, y_pred)\n",
    "mean = np.mean(mean_square_error)\n",
    "standard_deviation = np.std(mean_square_error)\n",
    "print(mean, standard_deviation)"
   ]
  },
  {
   "cell_type": "code",
   "execution_count": 21,
   "id": "1132f97b",
   "metadata": {},
   "outputs": [
    {
     "name": "stdout",
     "output_type": "stream",
     "text": [
      "MSE 1: 80.30674743652344\n",
      "10/10 [==============================] - 0s 1ms/step\n",
      "MSE 2: 92.4894027709961\n",
      "10/10 [==============================] - 0s 1ms/step\n",
      "MSE 3: 70.76460266113281\n",
      "10/10 [==============================] - 0s 2ms/step\n",
      "MSE 4: 70.26372528076172\n",
      "10/10 [==============================] - 0s 1ms/step\n",
      "MSE 5: 62.3734245300293\n",
      "10/10 [==============================] - 0s 1ms/step\n",
      "MSE 6: 78.2155532836914\n",
      "10/10 [==============================] - 0s 1ms/step\n",
      "MSE 7: 72.68125915527344\n",
      "10/10 [==============================] - 0s 2ms/step\n",
      "MSE 8: 57.07341766357422\n",
      "10/10 [==============================] - 0s 2ms/step\n",
      "MSE 9: 51.02939224243164\n",
      "10/10 [==============================] - 0s 1ms/step\n",
      "MSE 10: 53.172637939453125\n",
      "10/10 [==============================] - 0s 1ms/step\n",
      "MSE 11: 48.507720947265625\n",
      "10/10 [==============================] - 0s 1ms/step\n",
      "MSE 12: 46.07358169555664\n",
      "10/10 [==============================] - 0s 1ms/step\n",
      "MSE 13: 58.22443389892578\n",
      "10/10 [==============================] - 0s 1ms/step\n",
      "MSE 14: 53.66268539428711\n",
      "10/10 [==============================] - 0s 2ms/step\n",
      "MSE 15: 50.12094497680664\n",
      "10/10 [==============================] - 0s 1ms/step\n",
      "MSE 16: 44.10914611816406\n",
      "10/10 [==============================] - 0s 2ms/step\n",
      "MSE 17: 54.2636833190918\n",
      "10/10 [==============================] - 0s 1ms/step\n",
      "MSE 18: 64.13884735107422\n",
      "10/10 [==============================] - 0s 1ms/step\n",
      "MSE 19: 45.034523010253906\n",
      "10/10 [==============================] - 0s 1ms/step\n",
      "MSE 20: 49.275516510009766\n",
      "10/10 [==============================] - 0s 1ms/step\n",
      "MSE 21: 44.939208984375\n",
      "10/10 [==============================] - 0s 1ms/step\n",
      "MSE 22: 47.31196975708008\n",
      "10/10 [==============================] - 0s 1ms/step\n",
      "MSE 23: 50.376590728759766\n",
      "10/10 [==============================] - 0s 1ms/step\n",
      "MSE 24: 49.275413513183594\n",
      "10/10 [==============================] - 0s 1ms/step\n",
      "MSE 25: 53.53531265258789\n",
      "10/10 [==============================] - 0s 889us/step\n",
      "MSE 26: 48.814605712890625\n",
      "10/10 [==============================] - 0s 1ms/step\n",
      "MSE 27: 62.876705169677734\n",
      "10/10 [==============================] - 0s 2ms/step\n",
      "MSE 28: 50.7059326171875\n",
      "10/10 [==============================] - 0s 1ms/step\n",
      "MSE 29: 55.38024139404297\n",
      "10/10 [==============================] - 0s 1ms/step\n",
      "MSE 30: 51.08160400390625\n",
      "10/10 [==============================] - 0s 1ms/step\n",
      "MSE 31: 52.8094596862793\n",
      "10/10 [==============================] - 0s 2ms/step\n",
      "MSE 32: 43.351680755615234\n",
      "10/10 [==============================] - 0s 1ms/step\n",
      "MSE 33: 48.61021423339844\n",
      "10/10 [==============================] - 0s 1ms/step\n",
      "MSE 34: 49.9096565246582\n",
      "10/10 [==============================] - 0s 1ms/step\n",
      "MSE 35: 55.914859771728516\n",
      "10/10 [==============================] - 0s 2ms/step\n",
      "MSE 36: 52.71598434448242\n",
      "10/10 [==============================] - 0s 2ms/step\n",
      "MSE 37: 51.485347747802734\n",
      "10/10 [==============================] - 0s 1ms/step\n",
      "MSE 38: 54.46920394897461\n",
      "10/10 [==============================] - 0s 1ms/step\n",
      "MSE 39: 52.82275390625\n",
      "10/10 [==============================] - 0s 1ms/step\n",
      "MSE 40: 52.84123229980469\n",
      "10/10 [==============================] - 0s 1ms/step\n",
      "MSE 41: 57.11289596557617\n",
      "10/10 [==============================] - 0s 2ms/step\n",
      "MSE 42: 48.07815933227539\n",
      "10/10 [==============================] - 0s 1ms/step\n",
      "MSE 43: 47.7126579284668\n",
      "10/10 [==============================] - 0s 1ms/step\n",
      "MSE 44: 69.51848602294922\n",
      "10/10 [==============================] - 0s 1ms/step\n",
      "MSE 45: 53.2756233215332\n",
      "10/10 [==============================] - 0s 1ms/step\n",
      "MSE 46: 55.56288528442383\n",
      "10/10 [==============================] - 0s 1ms/step\n",
      "MSE 47: 49.667259216308594\n",
      "10/10 [==============================] - 0s 1ms/step\n",
      "MSE 48: 50.469383239746094\n",
      "10/10 [==============================] - 0s 1ms/step\n",
      "MSE 49: 50.8775520324707\n",
      "10/10 [==============================] - 0s 1ms/step\n",
      "MSE 50: 53.90824890136719\n",
      "10/10 [==============================] - 0s 1ms/step\n",
      "\n",
      "\n",
      "Below is the mean and standard deviation of 50 mean squared errors without normalized data. Total number of epochs for each training is: 50\n",
      "\n",
      "Mean: 55.343849428133296\n",
      "Standard Deviation: 9.915936138082413\n"
     ]
    }
   ],
   "source": [
    "total_mean_squared_errors = 50\n",
    "epochs = 50\n",
    "mean_squared_errors = []\n",
    "for i in range(0, total_mean_squared_errors):\n",
    "    X_train, X_test, y_train, y_test = train_test_split(predictors, target, test_size=0.3, random_state=i)\n",
    "    model.fit(X_train, y_train, epochs=epochs, verbose=0)\n",
    "    MSE = model.evaluate(X_test, y_test, verbose=0)\n",
    "    print(\"MSE \"+str(i+1)+\": \"+str(MSE))\n",
    "    y_pred = model.predict(X_test)\n",
    "    mean_square_error = mean_squared_error(y_test, y_pred)\n",
    "    mean_squared_errors.append(mean_square_error)\n",
    "\n",
    "mean_squared_errors = np.array(mean_squared_errors)\n",
    "mean = np.mean(mean_squared_errors)\n",
    "standard_deviation = np.std(mean_squared_errors)\n",
    "\n",
    "print('\\n')\n",
    "print(\"Below is the mean and standard deviation of \" +str(total_mean_squared_errors) + \" mean squared errors without normalized data. Total number of epochs for each training is: \" +str(epochs) + \"\\n\")\n",
    "print(\"Mean: \"+str(mean))\n",
    "print(\"Standard Deviation: \"+str(standard_deviation))"
   ]
  },
  {
   "cell_type": "code",
   "execution_count": null,
   "id": "ae7de4b0",
   "metadata": {},
   "outputs": [],
   "source": []
  }
 ],
 "metadata": {
  "kernelspec": {
   "display_name": "Python 3 (ipykernel)",
   "language": "python",
   "name": "python3"
  },
  "language_info": {
   "codemirror_mode": {
    "name": "ipython",
    "version": 3
   },
   "file_extension": ".py",
   "mimetype": "text/x-python",
   "name": "python",
   "nbconvert_exporter": "python",
   "pygments_lexer": "ipython3",
   "version": "3.10.7"
  }
 },
 "nbformat": 4,
 "nbformat_minor": 5
}

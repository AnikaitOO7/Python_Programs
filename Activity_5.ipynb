{
 "cells": [
  {
   "cell_type": "markdown",
   "id": "924f7899",
   "metadata": {},
   "source": [
    "# Given a Matrix, the task is to write python program to reverse every Kth row. Where, K issome span value."
   ]
  },
  {
   "cell_type": "markdown",
   "id": "6fd16d1c",
   "metadata": {},
   "source": [
    "# Method 1: Using reversed() and loop\n",
    "In this, we iterate for each row, and if Kth row is found, reversal of it is performed using\n",
    "reverse()."
   ]
  },
  {
   "cell_type": "code",
   "execution_count": 6,
   "id": "29af6f95",
   "metadata": {},
   "outputs": [
    {
     "name": "stdout",
     "output_type": "stream",
     "text": [
      "the original list is: [[5, 3, 2], [8, 6, 3], [3, 5, 2], [3, 6], [3, 7, 4], [2, 9]]\n",
      "After reversing every Kth row: [[5, 3, 2], [8, 6, 3], [3, 5, 2], [[2, 9], [3, 7, 4], [3, 6], [3, 5, 2], [8, 6, 3], [5, 3, 2]], [3, 7, 4], [2, 9]]\n"
     ]
    }
   ],
   "source": [
    "test_list = [[5,3,2], [8,6,3], [3,5,2], [3,6], [3,7,4], [2,9]]\n",
    "print(\"the original list is: \"+str(test_list))\n",
    "K = 4\n",
    "res = []\n",
    "for idx, ele in enumerate(test_list):\n",
    "\tif (idx + 1) % K == 0:\n",
    "\t\tres.append(list(reversed(ele)))\n",
    "\telse:\n",
    "\t\tres.append(ele)\n",
    "print(\"After reversing every Kth row: \" + str(res))"
   ]
  },
  {
   "cell_type": "markdown",
   "id": "0045914b",
   "metadata": {},
   "source": [
    "# Method 2: Using Slicing and list comprehension\n",
    "In this, task of reversing is performed using string slice, and list comprehension is used as\n",
    "shorthand to perform task of iteration."
   ]
  },
  {
   "cell_type": "code",
   "execution_count": 17,
   "id": "dc0278c5",
   "metadata": {},
   "outputs": [
    {
     "name": "stdout",
     "output_type": "stream",
     "text": [
      "The original list is : [[5, 3, 2], [8, 6, 3], [3, 5, 2], [3, 6], [3, 7, 4], [2, 9]]\n",
      "After reversing every Kth row: [[5, 3, 2], [3, 6, 8], [3, 5, 2], [6, 3], [3, 7, 4], [9, 2]]\n"
     ]
    }
   ],
   "source": [
    "print(\"The original list is : \" + str(test_list))\n",
    "K = 2\n",
    "res = [ele[::-1] if (idx + 1) % K == 0 else ele for idx,ele in enumerate(test_list)]\n",
    "print(\"After reversing every Kth row: \" + str(res))"
   ]
  }
 ],
 "metadata": {
  "kernelspec": {
   "display_name": "Python 3 (ipykernel)",
   "language": "python",
   "name": "python3"
  },
  "language_info": {
   "codemirror_mode": {
    "name": "ipython",
    "version": 3
   },
   "file_extension": ".py",
   "mimetype": "text/x-python",
   "name": "python",
   "nbconvert_exporter": "python",
   "pygments_lexer": "ipython3",
   "version": "3.10.7"
  }
 },
 "nbformat": 4,
 "nbformat_minor": 5
}

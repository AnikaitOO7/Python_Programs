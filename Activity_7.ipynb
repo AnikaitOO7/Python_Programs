{
 "cells": [
  {
   "cell_type": "markdown",
   "id": "2dcb109f",
   "metadata": {},
   "source": [
    "# Creating a database using list and tuples"
   ]
  },
  {
   "cell_type": "code",
   "execution_count": null,
   "id": "65436a37",
   "metadata": {},
   "outputs": [
    {
     "name": "stdout",
     "output_type": "stream",
     "text": [
      "\n",
      "a. Add a new employee\n",
      "b. Display all employees\n"
     ]
    }
   ],
   "source": [
    "record=[]\n",
    "mytuple=()\n",
    "\n",
    "choice = \"\"\n",
    "while (choice != \"c\"):\n",
    "    print()\n",
    "    print(\"a. Add a new employee\")\n",
    "    print(\"b. Display all employees\")\n",
    "\n",
    "    choice = input(\"Choose an option\")\n",
    "    if choice == \"a\":\n",
    "        full_name = str(input(\"Enter Employee name: \")).title()\n",
    "        record.append(full_name)\n",
    "        print(record)\n",
    "\n",
    "        job_title = str(input(\"Enter Employee job title: \")).title()\n",
    "        record.append(job_title)\n",
    "        print(record)\n",
    "\n",
    "\n",
    "    elif choice == \"b\":\n",
    "        print(\"Employee Name:\")\n",
    "        for n in record:\n",
    "            mytuple=tuple(record)\n",
    "            print(mytuple)"
   ]
  },
  {
   "cell_type": "markdown",
   "id": "f854daa6",
   "metadata": {},
   "source": [
    "# Method 2"
   ]
  },
  {
   "cell_type": "code",
   "execution_count": null,
   "id": "8c5f04f6",
   "metadata": {},
   "outputs": [],
   "source": [
    "import csv\n",
    "print(\"-------EMPLOYEE MANAGEMENT----------\")\n",
    "x=input(\"name of emp: \")\n",
    "y=int(input(\"id of emp: \"))\n",
    "z=input(\"dept of emp: \")\n",
    "a=int(input(\"salary of emp: \"))\n",
    "\n",
    "list_emp=[x,y,z,a]\n",
    "print(\"list is\",list_emp)\n",
    "\n",
    "with open('file_1.csv','w')as f:\n",
    "    write=csv.writer(f)\n",
    "    write.writerow(list_emp)"
   ]
  },
  {
   "cell_type": "code",
   "execution_count": null,
   "id": "afa18058",
   "metadata": {},
   "outputs": [],
   "source": []
  }
 ],
 "metadata": {
  "kernelspec": {
   "display_name": "Python 3 (ipykernel)",
   "language": "python",
   "name": "python3"
  },
  "language_info": {
   "codemirror_mode": {
    "name": "ipython",
    "version": 3
   },
   "file_extension": ".py",
   "mimetype": "text/x-python",
   "name": "python",
   "nbconvert_exporter": "python",
   "pygments_lexer": "ipython3",
   "version": "3.10.7"
  }
 },
 "nbformat": 4,
 "nbformat_minor": 5
}

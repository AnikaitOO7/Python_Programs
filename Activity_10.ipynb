{
 "cells": [
  {
   "cell_type": "markdown",
   "id": "32ba0bfb",
   "metadata": {},
   "source": [
    "# Write a program to create a Simple Calculator using a switch case and function for every operation."
   ]
  },
  {
   "cell_type": "code",
   "execution_count": 1,
   "id": "13553599",
   "metadata": {},
   "outputs": [
    {
     "name": "stdout",
     "output_type": "stream",
     "text": [
      "You can perform operation\n",
      "1. Addition\n",
      "2. Subtraction\n",
      "3. Multiplication\n",
      "4. Division\n",
      "5. Module \n",
      "Select operation from 1,2,3,4 : 1\n",
      "Enter first number: 5\n",
      "Enter second number: 7\n",
      "12\n"
     ]
    }
   ],
   "source": [
    "def addition(num1, num2):\n",
    "    num1 += num2\n",
    "    return num1\n",
    "\n",
    "def subtraction(num1, num2):\n",
    "    num1 -= num2\n",
    "    return num1\n",
    "\n",
    "def mul(num1, num2):\n",
    "    num1 *= num2\n",
    "    return num1\n",
    "\n",
    "def division(num1, num2):\n",
    "    num1 /= num2\n",
    "    return num1\n",
    "\n",
    "def module(num1, num2):\n",
    "    num1 %= num2\n",
    "    return num1\n",
    "\n",
    "def default(num1, num2):\n",
    "    return \"Incorrect data\"\n",
    "\n",
    "switcher = {\n",
    "    1: addition,\n",
    "    2: subtraction,\n",
    "    3: mul,\n",
    "    4: division,\n",
    "    5: module\n",
    "}\n",
    "\n",
    "def switch(operation, num1, num2):\n",
    "    return switcher.get(operation, default)(num1, num2)\n",
    "print('''You can perform operation\n",
    "1. Addition\n",
    "2. Subtraction\n",
    "3. Multiplication\n",
    "4. Division\n",
    "5. Module ''')\n",
    "# Take input from user\n",
    "choice = int(input(\"Select operation from 1,2,3,4 : \"))\n",
    "num1 = int(input(\"Enter first number: \"))\n",
    "num2 = int(input(\"Enter second number: \"))\n",
    "print (switch(choice, num1, num2))"
   ]
  },
  {
   "cell_type": "code",
   "execution_count": null,
   "id": "46972f4e",
   "metadata": {},
   "outputs": [],
   "source": [
    "def addition(num1,num2):\n",
    "    num1 += num2\n",
    "    return num1\n",
    "def subtraction(num1,num2):\n",
    "    num1 -= num2\n",
    "    return num1\n",
    "def mul(num1,num2):\n",
    "    num1 *= num2\n",
    "    return num1\n",
    "def division(num1,num2):\n",
    "    num1 /= num2\n",
    "    return num1\n",
    "\n",
    "def module(num1,num2):\n",
    "    num1 %= num2\n",
    "    return num1\n",
    "\n",
    "def default(num1,num2):\n",
    "    return \"Incorrect day\"\n",
    "\n",
    "switcher = {\n",
    "    1: addition,\n",
    "    2: subtraction,\n",
    "    3: mul,\n",
    "    4: division,\n",
    "    5: module\n",
    "    }\n",
    "\n",
    "def switch(operation):\n",
    "    return switcher.get(operation, default)()\n",
    "print('''You can perform operation\n",
    "1. Addition\n",
    "2. Subtraction\n",
    "3. Multiplication\n",
    "4. Division\n",
    "5. Module ''')\n",
    "\n",
    "#Take input from user\n",
    "choice = int(input(\"Select operation from 1,2,3,4 : \"))\n",
    "\n",
    "print (switch(choice))"
   ]
  },
  {
   "cell_type": "code",
   "execution_count": null,
   "id": "59ebd684",
   "metadata": {},
   "outputs": [],
   "source": []
  }
 ],
 "metadata": {
  "kernelspec": {
   "display_name": "Python 3 (ipykernel)",
   "language": "python",
   "name": "python3"
  },
  "language_info": {
   "codemirror_mode": {
    "name": "ipython",
    "version": 3
   },
   "file_extension": ".py",
   "mimetype": "text/x-python",
   "name": "python",
   "nbconvert_exporter": "python",
   "pygments_lexer": "ipython3",
   "version": "3.10.7"
  }
 },
 "nbformat": 4,
 "nbformat_minor": 5
}

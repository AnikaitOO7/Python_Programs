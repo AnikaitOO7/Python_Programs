{
 "cells": [
  {
   "cell_type": "markdown",
   "id": "693aa929",
   "metadata": {},
   "source": [
    "# Practic"
   ]
  },
  {
   "cell_type": "code",
   "execution_count": 7,
   "id": "569006ba",
   "metadata": {},
   "outputs": [],
   "source": [
    "div = 20/2\n"
   ]
  },
  {
   "cell_type": "code",
   "execution_count": 9,
   "id": "c63c7481",
   "metadata": {},
   "outputs": [
    {
     "name": "stdout",
     "output_type": "stream",
     "text": [
      "10.0\n",
      "20.0\n"
     ]
    }
   ],
   "source": [
    "print(div)\n",
    "print(40/2)"
   ]
  },
  {
   "cell_type": "code",
   "execution_count": 2,
   "id": "2c9f72f3",
   "metadata": {},
   "outputs": [
    {
     "name": "stdout",
     "output_type": "stream",
     "text": [
      "7\n"
     ]
    }
   ],
   "source": [
    "max(5,7)"
   ]
  },
  {
   "cell_type": "markdown",
   "id": "58750168",
   "metadata": {},
   "source": [
    "# List and Unfold"
   ]
  },
  {
   "cell_type": "code",
   "execution_count": 10,
   "id": "90b8d637",
   "metadata": {},
   "outputs": [],
   "source": [
    "students = ['Anikait','krish','astro','sonic']"
   ]
  },
  {
   "cell_type": "code",
   "execution_count": 12,
   "id": "2129d9ce",
   "metadata": {},
   "outputs": [
    {
     "name": "stdout",
     "output_type": "stream",
     "text": [
      "Anikait krish astro sonic\n",
      "<class 'list'>\n",
      "Anikait\n"
     ]
    }
   ],
   "source": [
    "a, b, c, d = students\n",
    "\n",
    "print(a, b, c, d)\n",
    "print(students)\n",
    "print(a)"
   ]
  },
  {
   "cell_type": "markdown",
   "id": "52bc177f",
   "metadata": {},
   "source": [
    "# MAX OF THREE"
   ]
  },
  {
   "cell_type": "code",
   "execution_count": 13,
   "id": "7b3acaea",
   "metadata": {},
   "outputs": [
    {
     "name": "stdout",
     "output_type": "stream",
     "text": [
      "Enter the first number = 6\n",
      "Enter the second number = 9\n",
      "Enter the third number = 4\n"
     ]
    },
    {
     "data": {
      "text/plain": [
       "9"
      ]
     },
     "execution_count": 13,
     "metadata": {},
     "output_type": "execute_result"
    }
   ],
   "source": [
    "number_1 = int(input('Enter the first number = '))\n",
    "number_2 = int(input('Enter the second number = '))\n",
    "number_3 = int(input('Enter the third number = '))\n",
    "\n",
    "max(number_1, number_2, number_3)"
   ]
  },
  {
   "cell_type": "markdown",
   "id": "acd787e0",
   "metadata": {},
   "source": [
    "# Strings"
   ]
  },
  {
   "cell_type": "code",
   "execution_count": 1,
   "id": "7c3a99f2",
   "metadata": {},
   "outputs": [],
   "source": [
    "var = 'Hello how are you 😎'"
   ]
  },
  {
   "cell_type": "code",
   "execution_count": 2,
   "id": "933bf395",
   "metadata": {},
   "outputs": [
    {
     "name": "stdout",
     "output_type": "stream",
     "text": [
      "18\n"
     ]
    }
   ],
   "source": [
    "print(var.index('😎'))"
   ]
  },
  {
   "cell_type": "code",
   "execution_count": 4,
   "id": "d84060ef",
   "metadata": {},
   "outputs": [
    {
     "name": "stdout",
     "output_type": "stream",
     "text": [
      "19\n"
     ]
    }
   ],
   "source": [
    "print(len(var))"
   ]
  },
  {
   "cell_type": "code",
   "execution_count": 6,
   "id": "c99c94c3",
   "metadata": {},
   "outputs": [
    {
     "name": "stdout",
     "output_type": "stream",
     "text": [
      "Hello How Are You 😎\n"
     ]
    }
   ],
   "source": [
    "print(var.title())"
   ]
  },
  {
   "cell_type": "code",
   "execution_count": 7,
   "id": "5397c00f",
   "metadata": {},
   "outputs": [
    {
     "name": "stdout",
     "output_type": "stream",
     "text": [
      "HELLO HOW ARE YOU 😎\n"
     ]
    }
   ],
   "source": [
    "print(var.upper())"
   ]
  },
  {
   "cell_type": "code",
   "execution_count": 8,
   "id": "e82c6d4c",
   "metadata": {},
   "outputs": [
    {
     "name": "stdout",
     "output_type": "stream",
     "text": [
      "hello how are you 😎\n"
     ]
    }
   ],
   "source": [
    "print(var.lower())"
   ]
  },
  {
   "cell_type": "code",
   "execution_count": null,
   "id": "dc158ced",
   "metadata": {},
   "outputs": [],
   "source": []
  }
 ],
 "metadata": {
  "kernelspec": {
   "display_name": "Python 3 (ipykernel)",
   "language": "python",
   "name": "python3"
  },
  "language_info": {
   "codemirror_mode": {
    "name": "ipython",
    "version": 3
   },
   "file_extension": ".py",
   "mimetype": "text/x-python",
   "name": "python",
   "nbconvert_exporter": "python",
   "pygments_lexer": "ipython3",
   "version": "3.10.7"
  }
 },
 "nbformat": 4,
 "nbformat_minor": 5
}

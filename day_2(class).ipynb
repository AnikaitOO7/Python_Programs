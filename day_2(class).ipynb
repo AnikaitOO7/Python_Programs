{
 "cells": [
  {
   "cell_type": "markdown",
   "id": "08399e10",
   "metadata": {},
   "source": [
    "# 12-07-2022\n",
    "# Words of the day:\n",
    "\"\"\"\n",
    "\n",
    "1. Intimate: marked by close acquaintance association, or familiarity. \n",
    "2. Undertake: enter upon a activity or enterprise.\n",
    "3. Majority: more than half of votes in an election. \n",
    "4. Assert: declare or affirm solemnly and formally as true.\n",
    "5. Chamber: a natural and artifical enclosed space.\n",
    "\n",
    "\"\"\"\n",
    "\n",
    "# OOP'S"
   ]
  },
  {
   "cell_type": "markdown",
   "id": "54725f77",
   "metadata": {},
   "source": [
    "# class"
   ]
  },
  {
   "cell_type": "code",
   "execution_count": 4,
   "id": "bdd9a4b5",
   "metadata": {},
   "outputs": [
    {
     "name": "stdout",
     "output_type": "stream",
     "text": [
      "Animal Name =  Tiger\n",
      "Animal type =  Carnivorous\n",
      "Tiger  is a  Carnivorous  animal\n"
     ]
    }
   ],
   "source": [
    "class animal:\n",
    "    def __init__(self, name, animal_type):\n",
    "        self.name =name\n",
    "        self.animal_type = animal_type\n",
    "    def show(self):\n",
    "        print('Animal Name = ', self.name)\n",
    "        print('Animal type = ', self.animal_type)\n",
    "    def isa(self):\n",
    "        print(self.name, ' is a ', self.animal_type,' animal')\n",
    "        \n",
    "ani = animal('Tiger', 'Carnivorous')\n",
    "\n",
    "ani.show()\n",
    "ani.isa()"
   ]
  },
  {
   "cell_type": "code",
   "execution_count": null,
   "id": "f97c5cf8",
   "metadata": {},
   "outputs": [],
   "source": []
  }
 ],
 "metadata": {
  "kernelspec": {
   "display_name": "Python 3 (ipykernel)",
   "language": "python",
   "name": "python3"
  },
  "language_info": {
   "codemirror_mode": {
    "name": "ipython",
    "version": 3
   },
   "file_extension": ".py",
   "mimetype": "text/x-python",
   "name": "python",
   "nbconvert_exporter": "python",
   "pygments_lexer": "ipython3",
   "version": "3.10.0"
  }
 },
 "nbformat": 4,
 "nbformat_minor": 5
}

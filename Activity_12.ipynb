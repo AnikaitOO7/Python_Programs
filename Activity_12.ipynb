{
 "cells": [
  {
   "cell_type": "code",
   "execution_count": null,
   "id": "c5a2846a",
   "metadata": {},
   "outputs": [],
   "source": [
    "def armstrong():\n",
    "    num1 = int(input(\"Enter th first nnumber = \"))\n",
    "    num2 = int(input(\"Enter th second nnumber = \"))\n",
    "    num3 = int(input(\"Enter th third nnumber = \"))\n",
    "    \n",
    "    if(num1 >= num2) and (num1 >= num3):\n",
    "        largest = num1\n",
    "    elif(num2 >= num1) and (num2 >= num3):\n",
    "        largest = num2\n",
    "    else:\n",
    "        largest = num3\n",
    "    print(\"The Largest Number is = \", largest)\n",
    "    \n",
    "    sum=0\n",
    "    temp = largest\n",
    "    while temp > 0:\n",
    "        var = temp%10\n",
    "        #print(var)\n",
    "        sum += var**3\n",
    "        temp//=10\n",
    "        #print(temp)\n",
    "        \n",
    "    if largest == sum:\n",
    "        print(largest,\" is an armstrong number.\")\n",
    "        \n",
    "    else:\n",
    "        print(largest,\" is not an armstrong number.\")\n",
    "        \n",
    "armstrong()\n",
    "        "
   ]
  },
  {
   "cell_type": "code",
   "execution_count": null,
   "id": "4d55d67b",
   "metadata": {},
   "outputs": [],
   "source": []
  }
 ],
 "metadata": {
  "kernelspec": {
   "display_name": "Python 3 (ipykernel)",
   "language": "python",
   "name": "python3"
  },
  "language_info": {
   "codemirror_mode": {
    "name": "ipython",
    "version": 3
   },
   "file_extension": ".py",
   "mimetype": "text/x-python",
   "name": "python",
   "nbconvert_exporter": "python",
   "pygments_lexer": "ipython3",
   "version": "3.10.7"
  }
 },
 "nbformat": 4,
 "nbformat_minor": 5
}
